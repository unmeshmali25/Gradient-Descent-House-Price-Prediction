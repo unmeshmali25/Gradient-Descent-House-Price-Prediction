{
 "cells": [
  {
   "cell_type": "markdown",
   "metadata": {
    "id": "ON4WbEBvk9Z9"
   },
   "source": [
    "# Multivariate Linear Regression\n",
    "## Predicting House Price from Size and Number of Bedrooms\n",
    "\n",
    "This exercise is modified from the source: https://github.com/kaustubholpadkar/Predicting-House-Price-using-Multivariate-Linear-Regression"
   ]
  },
  {
   "cell_type": "markdown",
   "metadata": {
    "id": "RKxoZ5lknWll"
   },
   "source": [
    "### Import Libraries"
   ]
  },
  {
   "cell_type": "code",
   "execution_count": 1,
   "metadata": {
    "id": "Lq6qDjhHnbak"
   },
   "outputs": [],
   "source": [
    "%matplotlib inline\n",
    "from mpl_toolkits.mplot3d import Axes3D\n",
    "import numpy as np\n",
    "import matplotlib.pyplot as plt\n",
    "from sklearn.preprocessing import normalize"
   ]
  },
  {
   "cell_type": "markdown",
   "metadata": {
    "id": "W5b_-H-zn3_O"
   },
   "source": [
    "### Read the House Data\n",
    "\n",
    "NumPy provides the `genfromtxt()` function to load data from a text file into an array. As usual, each row in that file represents a different data point, observation, or example. Its components are separated by commas, so we set the `delimiter` parameter in `genfromtxt()`'s argument list to `','`."
   ]
  },
  {
   "cell_type": "code",
   "execution_count": 2,
   "metadata": {
    "id": "T1a23JYWn5oM"
   },
   "outputs": [],
   "source": [
    "data = np.genfromtxt('https://raw.githubusercontent.com/Tan-Moy/medium_articles/master/art2_multivariate_linear_regression/home.txt', delimiter=',')"
   ]
  },
  {
   "cell_type": "markdown",
   "metadata": {
    "id": "AK27bq1TnkbT"
   },
   "source": [
    "Examine the data's shape with the convenient `.shape` attribute. NumPy arrays and structures based on them all have it."
   ]
  },
  {
   "cell_type": "code",
   "execution_count": 3,
   "metadata": {
    "colab": {
     "base_uri": "https://localhost:8080/",
     "height": 34
    },
    "id": "Ip2EQ_PGoQJO",
    "outputId": "9d045cd9-ca59-4510-b559-8b4709b68f4c"
   },
   "outputs": [
    {
     "data": {
      "text/plain": [
       "(47, 3)"
      ]
     },
     "execution_count": 3,
     "metadata": {},
     "output_type": "execute_result"
    }
   ],
   "source": [
    "data.shape"
   ]
  },
  {
   "cell_type": "markdown",
   "metadata": {
    "id": "vFbjwHfjoWpT"
   },
   "source": [
    "By convention, the last element in an array's `.shape` tuple refers to its number of columns. Our dataset thus has 47 rows and 3 columns. "
   ]
  },
  {
   "cell_type": "markdown",
   "metadata": {
    "id": "_cWMna08pDIL"
   },
   "source": [
    "Let's visually inspect the first 5 rows of the data"
   ]
  },
  {
   "cell_type": "code",
   "execution_count": 4,
   "metadata": {
    "colab": {
     "base_uri": "https://localhost:8080/",
     "height": 102
    },
    "id": "otHHo0yCpJqj",
    "outputId": "764dd792-7def-40b0-f65d-f06b588622fe"
   },
   "outputs": [
    {
     "data": {
      "text/plain": [
       "array([[2.104e+03, 3.000e+00, 3.999e+05],\n",
       "       [1.600e+03, 3.000e+00, 3.299e+05],\n",
       "       [2.400e+03, 3.000e+00, 3.690e+05],\n",
       "       [1.416e+03, 2.000e+00, 2.320e+05],\n",
       "       [3.000e+03, 4.000e+00, 5.399e+05]])"
      ]
     },
     "execution_count": 4,
     "metadata": {},
     "output_type": "execute_result"
    }
   ],
   "source": [
    "data[:5, :]"
   ]
  },
  {
   "cell_type": "markdown",
   "metadata": {
    "id": "IzyXYXMEpYVv"
   },
   "source": [
    "The columns from left to right indicate each house's:\n",
    "\n",
    "0.   Floor area in square feet\n",
    "1.   Number of bedrooms\n",
    "2.   Price in dollars\n",
    "\n",
    "The first 2 are our features, i.e. the attributes of the data which we feed into our model to make predictions. The last is our target, the value which we're attempting to predict. "
   ]
  },
  {
   "cell_type": "code",
   "execution_count": null,
   "metadata": {},
   "outputs": [],
   "source": []
  },
  {
   "cell_type": "markdown",
   "metadata": {
    "id": "ydBEcRFeiDtS"
   },
   "source": [
    "### Normalize Data\n",
    "\n",
    "Normalization of feature (and for regression problems, target) columns can  mitigate problems that can arise from loss function gradients becoming too large or small, and thus help a model converge faster. There are several ways to normalize data. Here, we're going to rescale each column so that its L2 norm is 1, i.e. the sum of the squares of each element in a given column will be 1. \n",
    "\n",
    "We'll use the `normalize()` function from scikit-learn's preprocessing module. We'll need to specify the array axis along which we'll be calculating our norms. For aggregating functions (functions like mean and standard deviation) in NumPy and related libraries, the `axis` (or in the case of PyTorch, `dim`) parameter refers to the axis along which the aggregation is performed. Our data is a 2D array. We want to normalize each column, which means that within a given column, we aggregate the numbers from each row. For a 2D array, the 0 axis corresponds to the rows and the 1 axis corresponds to the columns. Thus, we pass `axis=0` into our call to the `normalize()` function."
   ]
  },
  {
   "cell_type": "code",
   "execution_count": 8,
   "metadata": {
    "id": "y1BwuHufiHJ_"
   },
   "outputs": [],
   "source": [
    "data = normalize(data, axis=0)"
   ]
  },
  {
   "cell_type": "markdown",
   "metadata": {
    "id": "evCdby_Ryh_d"
   },
   "source": [
    "Let's inspect the first 5 rows of our data again."
   ]
  },
  {
   "cell_type": "code",
   "execution_count": 9,
   "metadata": {
    "colab": {
     "base_uri": "https://localhost:8080/",
     "height": 102
    },
    "id": "6mWobVOAymvR",
    "outputId": "162f5687-86e6-4f9e-add5-17f6e868787e"
   },
   "outputs": [
    {
     "data": {
      "text/plain": [
       "array([[0.14276982, 0.13429844, 0.16105104],\n",
       "       [0.10857021, 0.13429844, 0.13286006],\n",
       "       [0.16285531, 0.13429844, 0.14860674],\n",
       "       [0.09608463, 0.0895323 , 0.09343296],\n",
       "       [0.20356914, 0.17906459, 0.217433  ]])"
      ]
     },
     "execution_count": 9,
     "metadata": {},
     "output_type": "execute_result"
    }
   ],
   "source": [
    "data[:5, :]"
   ]
  },
  {
   "cell_type": "markdown",
   "metadata": {
    "id": "7IYZy8_oywl6"
   },
   "source": [
    "The numbers look quite different from before. The floor areas, which were in square feet and on the order of $10^{3}$, are now represented by normalized figures on the order of $10^{-1}$ or just below. Similarly, the prices have been reduced from dollar figures on the order of $10^{5}$."
   ]
  },
  {
   "cell_type": "markdown",
   "metadata": {
    "id": "-BYea-NKzhMb"
   },
   "source": [
    "Let's verify that the `normalize()` function did its job properly"
   ]
  },
  {
   "cell_type": "code",
   "execution_count": 10,
   "metadata": {
    "colab": {
     "base_uri": "https://localhost:8080/",
     "height": 34
    },
    "id": "LUjFamH_zsaN",
    "outputId": "04ce6d7e-68ea-4a04-9d7c-3712d4d17132"
   },
   "outputs": [
    {
     "data": {
      "text/plain": [
       "1.0000000000000002"
      ]
     },
     "execution_count": 10,
     "metadata": {},
     "output_type": "execute_result"
    }
   ],
   "source": [
    "# Floor area column\n",
    "np.sum(np.square(data[:,0]))"
   ]
  },
  {
   "cell_type": "code",
   "execution_count": 12,
   "metadata": {
    "colab": {
     "base_uri": "https://localhost:8080/",
     "height": 34
    },
    "id": "_6QJv4k60Fxl",
    "outputId": "17bf2384-a113-4888-bd4f-ada0bec2bc2c"
   },
   "outputs": [
    {
     "data": {
      "text/plain": [
       "0.9999999999999999"
      ]
     },
     "execution_count": 12,
     "metadata": {},
     "output_type": "execute_result"
    }
   ],
   "source": [
    "# Bedroom count column\n",
    "np.sum(np.square(data[:,1]))"
   ]
  },
  {
   "cell_type": "code",
   "execution_count": 13,
   "metadata": {
    "colab": {
     "base_uri": "https://localhost:8080/",
     "height": 34
    },
    "id": "gTczjYHN0Fhu",
    "outputId": "ef424f8c-57f2-4431-a7ba-52059abf3501"
   },
   "outputs": [
    {
     "data": {
      "text/plain": [
       "1.0"
      ]
     },
     "execution_count": 13,
     "metadata": {},
     "output_type": "execute_result"
    }
   ],
   "source": [
    "# Price column\n",
    "np.sum(np.square(data[:,2]))"
   ]
  },
  {
   "cell_type": "markdown",
   "metadata": {
    "id": "O5K5K8pG0VEr"
   },
   "source": [
    "To within a roundoff error, our data has, indeed, been normalized properly."
   ]
  },
  {
   "cell_type": "markdown",
   "metadata": {
    "id": "8rMv-L53odN5"
   },
   "source": [
    "### Separate Data into X and Y\n",
    "\n",
    "I.e., separate the target from the features "
   ]
  },
  {
   "cell_type": "code",
   "execution_count": 14,
   "metadata": {
    "id": "uop_AFQSolHl"
   },
   "outputs": [],
   "source": [
    "X = data[:, 0:2]\n",
    "Y = data[:, 2:]"
   ]
  },
  {
   "cell_type": "markdown",
   "metadata": {
    "id": "wPSTKDAXpLAN"
   },
   "source": [
    "### Visualize the Data"
   ]
  },
  {
   "cell_type": "code",
   "execution_count": 15,
   "metadata": {
    "colab": {
     "base_uri": "https://localhost:8080/",
     "height": 248
    },
    "id": "eqSVKtKBWv9-",
    "outputId": "92c17184-87dc-48aa-b8ac-cbb592dee0c3"
   },
   "outputs": [
    {
     "data": {
      "image/png": "[encoded data removed]",
      "text/plain": [
       "<Figure size 432x288 with 1 Axes>"
      ]
     },
     "metadata": {
      "needs_background": "light"
     },
     "output_type": "display_data"
    }
   ],
   "source": [
    "# Fixing random state for reproducibility\n",
    "np.random.seed(19680801)\n",
    "\n",
    "fig = plt.figure()\n",
    "ax = fig.add_subplot(111, projection='3d')\n",
    "\n",
    "xs = X[:, 0]\n",
    "ys = X[:, 1]\n",
    "zs = Y\n",
    "ax.scatter(xs, ys, zs)\n",
    "\n",
    "ax.set_xlabel('size')\n",
    "ax.set_ylabel('bedroom')\n",
    "ax.set_zlabel('price')\n",
    "\n",
    "plt.show()"
   ]
  },
  {
   "cell_type": "markdown",
   "metadata": {
    "id": "1qEiGCpL1iae"
   },
   "source": [
    "It appears that our data points are distributed closely to a 2D plane. Multivariate linear regression should give us reasonable price predictions."
   ]
  },
  {
   "cell_type": "markdown",
   "metadata": {
    "id": "pf38YSVrIMaQ"
   },
   "source": [
    "Now that we've explored our data, let's prepare the model."
   ]
  },
  {
   "cell_type": "markdown",
   "metadata": {
    "id": "Yrjucdifq_mt"
   },
   "source": [
    "### Hyperparameters\n",
    "\n",
    "First, let's choose the hyperparameters (which the model won't learn, but which will influence the model's outcome and performance). In most machine learning problems, the objective is to learn the values of parameters (which interact with the features of any data point/observation/example fed into the model) such that a loss function (a penalty for predictions in the training data not matching their ground truth values) is minimized. One typically uses numerical approximations of gradients of this loss function to minimize it. \n",
    "\n",
    "The three most common methods for updating the loss function gradients and learned parameters are: \n",
    "\n",
    "1.   Batch gradient descent - Each update uses the entire dataset\n",
    "2.   Stochastic gradient descent - The gradients and parameters are updated after every training example\n",
    "3.   Mini-batch gradient descent - Something in between batch and stochastic gradient descent: The model reads in a subset of the full dataset before updating the gradients and parameters. Mini-batch sizes in powers of 2 are preferable. "
   ]
  },
  {
   "cell_type": "code",
   "execution_count": 16,
   "metadata": {
    "id": "OwVfkk3RrC_I"
   },
   "outputs": [],
   "source": [
    "# Batch gradient descent\n",
    "learning_rate = 0.09\n",
    "max_iteration = 500"
   ]
  },
  {
   "cell_type": "code",
   "execution_count": 17,
   "metadata": {
    "id": "RSXPA9L25UGl"
   },
   "outputs": [],
   "source": [
    "# Stochastic gradient descent\n",
    "s_learning_rate = 0.06\n",
    "s_max_iteration = 500"
   ]
  },
  {
   "cell_type": "code",
   "execution_count": 18,
   "metadata": {
    "id": "IeY-_RqF5V5v"
   },
   "outputs": [],
   "source": [
    "# Mini-Batch gradient descent\n",
    "mb_learning_rate = 0.09\n",
    "mb_max_iteration = 500\n",
    "batch_size = 16"
   ]
  },
  {
   "cell_type": "markdown",
   "metadata": {
    "id": "EzXaG70OrZtn"
   },
   "source": [
    "### Exercise: Parameters\n",
    "\n",
    "Initialize the arrays of theta parameters (one for each of the gradient descent methods above) which 2D arrays of zeros. Each row should correspond to a feature (column of `X`), with a bias term added (which will allow us to move our plane up or down the price, i.e. z axis). There should only be one element per row. \n",
    "\n",
    "You may find this function useful: [np.zeros()](https://numpy.org/doc/stable/reference/generated/numpy.zeros.html)"
   ]
  },
  {
   "cell_type": "code",
   "execution_count": 19,
   "metadata": {},
   "outputs": [
    {
     "data": {
      "text/plain": [
       "2"
      ]
     },
     "execution_count": 19,
     "metadata": {},
     "output_type": "execute_result"
    }
   ],
   "source": [
    "X.shape[1]"
   ]
  },
  {
   "cell_type": "code",
   "execution_count": 20,
   "metadata": {
    "id": "2INJM9AIrcBu"
   },
   "outputs": [],
   "source": [
    "### START CODE HERE ###\n",
    "theta = np.zeros((X.shape[1]+1,1))\n",
    "s_theta = np.zeros((X.shape[1]+1,1))\n",
    "mb_theta = np.zeros((X.shape[1]+1,1))\n",
    "### END CODE HERE ###"
   ]
  },
  {
   "cell_type": "code",
   "execution_count": 21,
   "metadata": {},
   "outputs": [
    {
     "name": "stdout",
     "output_type": "stream",
     "text": [
      "(47, 2)\n",
      "(3, 1)\n"
     ]
    }
   ],
   "source": [
    "print(X.shape)\n",
    "print(theta.shape)\n"
   ]
  },
  {
   "cell_type": "code",
   "execution_count": null,
   "metadata": {},
   "outputs": [],
   "source": []
  },
  {
   "cell_type": "markdown",
   "metadata": {},
   "source": [
    "### Number of columns of X must match the number of rows of theta. Hence matric multiplication is possible. "
   ]
  },
  {
   "cell_type": "markdown",
   "metadata": {
    "id": "FPt2eKjBr1Lx"
   },
   "source": [
    "### Exercise: Hypothesis\n",
    "\n",
    "Define a function which adds a column of ones (to complement the offset/bias parameter) to the features `X` of the dataset and computes a matrix multiplication between it and an array of learned parameters `theta`. Pay attention to the shapes of `X` and `theta`; matrix multiplication is not commutative. \n",
    "\n",
    "More generally, a hypothesis function `h` takes in features `X` and learned parameters `theta` to make a prediction, commonly denoted $\\hat{Y}$. The loss function (which you'll implement in the code cell immediately following the one for the hypothesis function) is a measure of the difference between your model's predicted target values and actual, ground truth target values. \n",
    "\n",
    "You may find these functions useful: [np.ones()](https://numpy.org/doc/stable/reference/generated/numpy.ones.html), [np.dot()](https://numpy.org/doc/stable/reference/generated/numpy.dot.html), [np.matmul()](https://numpy.org/doc/stable/reference/generated/numpy.matmul.html) "
   ]
  },
  {
   "cell_type": "code",
   "execution_count": 22,
   "metadata": {
    "id": "enVE4tHWsBBF"
   },
   "outputs": [],
   "source": [
    "def h (theta, X) :\n",
    "  ### START CODE HERE ###\n",
    "  tempX = np.ones((X.shape[0], X.shape[1]+1))\n",
    "  # Add a 0th column of ones to X\n",
    "  tempX[:, 1:] = X\n",
    "  # Return a matrix multiplication of your augmented X and theta\n",
    "  return np.matmul(tempX, theta)\n",
    "  ### END CODE HERE ###"
   ]
  },
  {
   "cell_type": "markdown",
   "metadata": {
    "id": "IA9I6vaXs7nb"
   },
   "source": [
    "### Exercise: Loss Function\n",
    "\n",
    "We'll use **half of** the Mean Squared Error (MSE) for our loss function. The MSE is defined as \n",
    "\n",
    "$\n",
    "\\textrm{MSE} = \\frac{1}{m} \\sum_{i=1}^m (Y_i - \\hat{Y_i})^2,\n",
    "$\n",
    "\n",
    "where $i$ is a given training example and $m$ is the number of training examples, i.e. rows in our dataset. Recall from above that $\\hat{Y}$ is a function of `theta` and `X`. \n",
    "\n",
    "You may find these functions useful: [np.average()](https://numpy.org/doc/stable/reference/generated/numpy.average.html) [np.mean()](https://numpy.org/doc/stable/reference/generated/numpy.mean.html), [np.square()](https://numpy.org/doc/stable/reference/generated/numpy.square.html)"
   ]
  },
  {
   "cell_type": "code",
   "execution_count": 23,
   "metadata": {
    "id": "3KOQVUjBs-Ub"
   },
   "outputs": [],
   "source": [
    "def loss (theta, X, Y) :\n",
    "  ### START CODE HERE ###\n",
    "  # Return half of the mean squared error between the actual Y and the predicted Y\n",
    "  # Recall that the predicted Y is a function of theta and X\n",
    "  return np.average(np.square(Y - h(theta, X)))/2\n",
    "  ### END CODE HERE ###"
   ]
  },
  {
   "cell_type": "markdown",
   "metadata": {
    "id": "7TE79NG-tyLG"
   },
   "source": [
    "### Exercise: Calculate Gradients\n",
    "\n",
    "One can verify through straightforward (though somewhat tedious) multivariable calculus that gradient of the loss function $J$ with respect to the array of parameters $\\theta$ is \n",
    "\n",
    "$\n",
    "\\frac{\\partial J}{\\partial \\theta} = - \\frac{1}{m} X^T \\cdot (Y - \\hat{Y}).\n",
    "$\n",
    "\n",
    "For clarity, $m$ is the number of training examples, the superscript $T$ denotes a matrix transposition, and $\\cdot$ denotes a matrix inner product (dot product). \n",
    "\n",
    "In code, $\\frac{\\partial J}{\\partial \\theta}$ is typically denoted `d_theta` or something similar, with the same logic applying to other intermediate parameters for the more complicated models you'll learn about later in this program."
   ]
  },
  {
   "cell_type": "code",
   "execution_count": 24,
   "metadata": {
    "id": "yy9yxye4t0BJ"
   },
   "outputs": [],
   "source": [
    "def gradient (theta, X, Y) :\n",
    "  ### START CODE HERE ###\n",
    "  # Make a copy of X with an extra initial column of ones to complement the bias parameter\n",
    "  tempX = np.ones((X.shape[0], X.shape[1] + 1))\n",
    "  tempX[:,1:] = X\n",
    "  # Compute d_theta according to the formula in the text cell above\n",
    "  # Make sure it retains the shape (number of features + 1, 1)\n",
    "  d_theta = - np.average((Y - h(theta, X)) * tempX, axis= 0)\n",
    "  d_theta = d_theta.reshape((d_theta.shape[0], 1))\n",
    "    \n",
    "  #d_theta = - np.dot(tempX.T, Y- - h(theta, X))/X.shape[0]\n",
    "  ### END CODE HERE ###\n",
    "  return d_theta"
   ]
  },
  {
   "cell_type": "markdown",
   "metadata": {
    "id": "zLd-RcZ0qh0N"
   },
   "source": [
    "### Now we define our gradient descent methods\n",
    "\n",
    "In general, we update our array of parameters $\\theta$ with the formula \n",
    "\n",
    "$\n",
    "\\theta := \\theta - \\alpha \\frac{\\partial J}{\\partial \\theta}, \n",
    "$\n",
    "\n",
    "or in code, \n",
    "\n",
    "`theta = theta - learning_rate * d_theta`.\n",
    "\n",
    "The question is how often `d_theta` is calculated and thus how often `theta` is updated."
   ]
  },
  {
   "cell_type": "markdown",
   "metadata": {
    "id": "jVo5TbKyu9KL"
   },
   "source": [
    "### Exercise: Batch Gradient Descent\n",
    "\n",
    "Use the full dataset to update `d_theta`"
   ]
  },
  {
   "cell_type": "code",
   "execution_count": 25,
   "metadata": {
    "id": "fprg4-tcu-4v"
   },
   "outputs": [],
   "source": [
    "def gradient_descent (theta, X, Y, learning_rate, max_iteration, gap) :\n",
    "  cost = np.zeros(max_iteration)\n",
    "  for i in range(max_iteration) :\n",
    "    ### START CODE HERE ###\n",
    "    # Use the full dataset to update d_theta\n",
    "    d_theta = gradient(theta, X, Y)\n",
    "    ### END CODE HERE ###\n",
    "    theta = theta - learning_rate * d_theta\n",
    "    cost[i] = loss(theta, X, Y)\n",
    "    if i % gap == 0 :\n",
    "      print ('iteration : ', i, ' loss : ', loss(theta, X, Y)) \n",
    "  return theta, cost"
   ]
  },
  {
   "cell_type": "markdown",
   "metadata": {
    "id": "Si5f2m-9-krz"
   },
   "source": [
    "### Exercise: Mini-Batch Gradient Descent\n",
    "\n",
    "Use a subset of the data of size `batch_size` to update `d_theta`"
   ]
  },
  {
   "cell_type": "code",
   "execution_count": 26,
   "metadata": {},
   "outputs": [
    {
     "data": {
      "text/plain": [
       "(47, 2)"
      ]
     },
     "execution_count": 26,
     "metadata": {},
     "output_type": "execute_result"
    }
   ],
   "source": [
    "X.shape"
   ]
  },
  {
   "cell_type": "code",
   "execution_count": null,
   "metadata": {},
   "outputs": [],
   "source": [
    "\n"
   ]
  },
  {
   "cell_type": "code",
   "execution_count": 27,
   "metadata": {
    "id": "kCGUklWXyov-"
   },
   "outputs": [],
   "source": [
    "def minibatch_gradient_descent (theta, X, Y, learning_rate, max_iteration, batch_size, gap) :\n",
    "  cost = np.zeros(max_iteration)\n",
    "  for i in range(max_iteration) :\n",
    "    for j in range(0, X.shape[0], batch_size):\n",
    "      ### START CODE HERE ###\n",
    "      # Use a subset of the data of size batch_size to update d_theta\n",
    "      d_theta = gradient(theta, X[j: j+batch_size], Y[j: j+batch_size])\n",
    "      ### END CODE HERE ###\n",
    "      theta = theta - learning_rate * d_theta\n",
    "    \n",
    "    cost[i] = loss(theta, X, Y)\n",
    "    if i % gap == 0 :\n",
    "      print ('iteration : ', i, ' loss : ', loss(theta, X, Y)) \n",
    "  return theta, cost"
   ]
  },
  {
   "cell_type": "markdown",
   "metadata": {
    "id": "epWfjT9R-sk3"
   },
   "source": [
    "### Stochastic Gradient Descent\n",
    "\n",
    "Update `d_theta` at every training example"
   ]
  },
  {
   "cell_type": "code",
   "execution_count": 28,
   "metadata": {
    "id": "cWDNv4BkvpvQ"
   },
   "outputs": [],
   "source": [
    "def stochastic_gradient_descent (theta, X, Y, learning_rate, max_iteration, gap) :\n",
    "  cost = np.zeros(max_iteration)\n",
    "  for i in range(max_iteration) :\n",
    "    for j in range(X.shape[0]):\n",
    "      ### START CODE HERE ###\n",
    "      # Update d_theta at every training example\n",
    "      st_X = np.reshape(X[j,:], (1, 2))\n",
    "      st_Y = np.reshape(Y[j,:], (1,1))\n",
    "      d_theta = gradient(theta, st_X, st_Y)\n",
    "      ### END CODE HERE ###\n",
    "      theta = theta - learning_rate * d_theta\n",
    "    \n",
    "    cost[i] = loss(theta, X, Y)\n",
    "    if i % gap == 0 :\n",
    "      print ('iteration : ', i, ' loss : ', loss(theta, X, Y)) \n",
    "  return theta, cost"
   ]
  },
  {
   "cell_type": "markdown",
   "metadata": {
    "id": "uMIZFxUhwQZO"
   },
   "source": [
    "### Train Model"
   ]
  },
  {
   "cell_type": "code",
   "execution_count": 29,
   "metadata": {
    "colab": {
     "base_uri": "https://localhost:8080/",
     "height": 102
    },
    "id": "-0okDGSCwUC7",
    "outputId": "c1813c58-d8f6-4878-ff1a-2832f4fb4505"
   },
   "outputs": [
    {
     "name": "stdout",
     "output_type": "stream",
     "text": [
      "iteration :  0  loss :  0.008953394291859408\n",
      "iteration :  100  loss :  0.001141206846805577\n",
      "iteration :  200  loss :  0.0010983346701341126\n",
      "iteration :  300  loss :  0.0010578360732127875\n",
      "iteration :  400  loss :  0.0010195783124573585\n"
     ]
    }
   ],
   "source": [
    "theta, cost = gradient_descent (theta, X, Y, learning_rate, max_iteration, 100)"
   ]
  },
  {
   "cell_type": "code",
   "execution_count": 30,
   "metadata": {
    "colab": {
     "base_uri": "https://localhost:8080/",
     "height": 102
    },
    "id": "YBJreRDKwtvI",
    "outputId": "034d5964-735c-4b70-dcec-e8234961c6b9"
   },
   "outputs": [
    {
     "name": "stdout",
     "output_type": "stream",
     "text": [
      "iteration :  0  loss :  0.00124239448086184\n",
      "iteration :  100  loss :  0.0005009080256472754\n",
      "iteration :  200  loss :  0.0003837096334895833\n",
      "iteration :  300  loss :  0.0003584577175863438\n",
      "iteration :  400  loss :  0.00034970489742767335\n"
     ]
    }
   ],
   "source": [
    "s_theta, s_cost = stochastic_gradient_descent (s_theta, X, Y, s_learning_rate, s_max_iteration, 100)"
   ]
  },
  {
   "cell_type": "code",
   "execution_count": 31,
   "metadata": {
    "colab": {
     "base_uri": "https://localhost:8080/",
     "height": 102
    },
    "id": "viSuvODWza-1",
    "outputId": "fd3aeb64-0e1e-42a4-a09b-4071af72ea9d"
   },
   "outputs": [
    {
     "name": "stdout",
     "output_type": "stream",
     "text": [
      "iteration :  0  loss :  0.006440267374919575\n",
      "iteration :  100  loss :  0.001057469055029178\n",
      "iteration :  200  loss :  0.0009493292161679231\n",
      "iteration :  300  loss :  0.0008581038563838422\n",
      "iteration :  400  loss :  0.0007811141388031933\n"
     ]
    }
   ],
   "source": [
    "mb_theta, mb_cost = minibatch_gradient_descent (mb_theta, X, Y, mb_learning_rate, mb_max_iteration, batch_size, 100)"
   ]
  },
  {
   "cell_type": "markdown",
   "metadata": {
    "id": "MFp2MUlexVd5"
   },
   "source": [
    "### Optimal values of Parameters using Trained Model"
   ]
  },
  {
   "cell_type": "code",
   "execution_count": 32,
   "metadata": {
    "colab": {
     "base_uri": "https://localhost:8080/",
     "height": 68
    },
    "id": "tcMQWkuvwYu7",
    "outputId": "4d20bb42-f038-4aac-97f9-d0fe27b4974f"
   },
   "outputs": [
    {
     "data": {
      "text/plain": [
       "array([[0.1162658 ],\n",
       "       [0.10841615],\n",
       "       [0.04538421]])"
      ]
     },
     "execution_count": 32,
     "metadata": {},
     "output_type": "execute_result"
    }
   ],
   "source": [
    "theta"
   ]
  },
  {
   "cell_type": "code",
   "execution_count": 33,
   "metadata": {
    "colab": {
     "base_uri": "https://localhost:8080/",
     "height": 68
    },
    "id": "Orub1Wgdx0yc",
    "outputId": "b0247cc3-147d-432b-96db-533e479e8024"
   },
   "outputs": [
    {
     "data": {
      "text/plain": [
       "array([[0.02200637],\n",
       "       [0.74621831],\n",
       "       [0.07975913]])"
      ]
     },
     "execution_count": 33,
     "metadata": {},
     "output_type": "execute_result"
    }
   ],
   "source": [
    "s_theta"
   ]
  },
  {
   "cell_type": "code",
   "execution_count": 34,
   "metadata": {
    "colab": {
     "base_uri": "https://localhost:8080/",
     "height": 68
    },
    "id": "TBrs3crW55Ka",
    "outputId": "395be108-b113-40be-fe4c-32e4e23c71c9"
   },
   "outputs": [
    {
     "data": {
      "text/plain": [
       "array([[0.09043786],\n",
       "       [0.25548734],\n",
       "       [0.08352689]])"
      ]
     },
     "execution_count": 34,
     "metadata": {},
     "output_type": "execute_result"
    }
   ],
   "source": [
    "mb_theta"
   ]
  },
  {
   "cell_type": "markdown",
   "metadata": {
    "id": "Pi99RMws736c"
   },
   "source": [
    "### Cost vs Iteration Plots"
   ]
  },
  {
   "cell_type": "code",
   "execution_count": 35,
   "metadata": {
    "colab": {
     "base_uri": "https://localhost:8080/",
     "height": 295
    },
    "id": "SvzRaqIQ78Pl",
    "outputId": "76928394-58fa-4004-aac2-e3b69affcd6a"
   },
   "outputs": [
    {
     "data": {
      "image/png": "[encoded data removed]",
      "text/plain": [
       "<Figure size 432x288 with 1 Axes>"
      ]
     },
     "metadata": {
      "needs_background": "light"
     },
     "output_type": "display_data"
    }
   ],
   "source": [
    "#plot the cost\n",
    "fig, ax = plt.subplots()  \n",
    "ax.plot(np.arange(max_iteration), cost, 'r')  \n",
    "ax.plot(np.arange(max_iteration), s_cost, 'b')  \n",
    "ax.plot(np.arange(max_iteration), mb_cost, 'g')  \n",
    "ax.legend(loc='upper right', labels=['batch gradient descent', 'stochastic gradient descent', 'mini-batch gradient descent'])\n",
    "ax.set_xlabel('Iterations')  \n",
    "ax.set_ylabel('Cost')  \n",
    "ax.set_title('Error vs. Training Epoch')  \n",
    "\n",
    "plt.show()"
   ]
  },
  {
   "cell_type": "markdown",
   "metadata": {
    "id": "Dh6PmQOwxcKk"
   },
   "source": [
    "### Visualize the Data"
   ]
  },
  {
   "cell_type": "code",
   "execution_count": 36,
   "metadata": {
    "colab": {
     "base_uri": "https://localhost:8080/",
     "height": 248
    },
    "id": "B0h7MJE0xcKo",
    "outputId": "193d49cf-7190-4289-b97e-2f86e7d67302"
   },
   "outputs": [
    {
     "data": {
      "image/png": "[encoded data removed]",
      "text/plain": [
       "<Figure size 432x288 with 1 Axes>"
      ]
     },
     "metadata": {
      "needs_background": "light"
     },
     "output_type": "display_data"
    }
   ],
   "source": [
    "# Fixing random state for reproducibility\n",
    "np.random.seed(19680801)\n",
    "\n",
    "fig = plt.figure()\n",
    "ax = fig.add_subplot(111, projection='3d')\n",
    "\n",
    "xs = X[:, 0]\n",
    "ys = X[:, 1]\n",
    "zs = Y\n",
    "ax.scatter(xs, ys, zs)\n",
    "\n",
    "ax.set_xlabel('size')\n",
    "ax.set_ylabel('bedroom')\n",
    "ax.set_zlabel('price')\n",
    "\n",
    "x = y = np.arange(0, 0.3, 0.05)\n",
    "xp, yp = np.meshgrid(x, y)\n",
    "z = np.array([h(theta, np.array([[x,y]]))[0, 0] for x,y in zip(np.ravel(xp), np.ravel(yp))])\n",
    "zp = z.reshape(xp.shape)\n",
    "\n",
    "ax.plot_surface(xp, yp, zp, alpha=0.7)\n",
    "    \n",
    "plt.show()"
   ]
  },
  {
   "cell_type": "code",
   "execution_count": 37,
   "metadata": {
    "colab": {
     "base_uri": "https://localhost:8080/",
     "height": 248
    },
    "id": "GoZITHpln8TK",
    "outputId": "3be7173c-00f0-428e-915f-61cc7b71fd94"
   },
   "outputs": [
    {
     "data": {
      "image/png": "[encoded data removed]",
      "text/plain": [
       "<Figure size 432x288 with 1 Axes>"
      ]
     },
     "metadata": {
      "needs_background": "light"
     },
     "output_type": "display_data"
    }
   ],
   "source": [
    "# Fixing random state for reproducibility\n",
    "np.random.seed(19680801)\n",
    "\n",
    "fig = plt.figure()\n",
    "ax = fig.add_subplot(111, projection='3d')\n",
    "\n",
    "xs = X[:, 0]\n",
    "ys = X[:, 1]\n",
    "zs = Y\n",
    "ax.scatter(xs, ys, zs)\n",
    "\n",
    "ax.set_xlabel('size')\n",
    "ax.set_ylabel('bedroom')\n",
    "ax.set_zlabel('price')\n",
    "\n",
    "x = y = np.arange(0, 0.3, 0.05)\n",
    "xp, yp = np.meshgrid(x, y)\n",
    "z = np.array([h(s_theta, np.array([[x,y]]))[0, 0] for x,y in zip(np.ravel(xp), np.ravel(yp))])\n",
    "zp = z.reshape(xp.shape)\n",
    "\n",
    "ax.plot_surface(xp, yp, zp, alpha=0.7)\n",
    "    \n",
    "plt.show()"
   ]
  },
  {
   "cell_type": "code",
   "execution_count": 38,
   "metadata": {
    "colab": {
     "base_uri": "https://localhost:8080/",
     "height": 248
    },
    "id": "KUTo6lsyx_Uv",
    "outputId": "5d8ce397-073a-40e9-c28b-46cba5816cd9"
   },
   "outputs": [
    {
     "data": {
      "image/png": "[encoded data removed]",
      "text/plain": [
       "<Figure size 432x288 with 1 Axes>"
      ]
     },
     "metadata": {
      "needs_background": "light"
     },
     "output_type": "display_data"
    }
   ],
   "source": [
    "# Fixing random state for reproducibility\n",
    "np.random.seed(19680801)\n",
    "\n",
    "fig = plt.figure()\n",
    "ax = fig.add_subplot(111, projection='3d')\n",
    "\n",
    "x = y = np.arange(0, 0.3, 0.05)\n",
    "xp, yp = np.meshgrid(x, y)\n",
    "z = np.array([h(mb_theta, np.array([[x,y]]))[0, 0] for x,y in zip(np.ravel(xp), np.ravel(yp))])\n",
    "zp = z.reshape(xp.shape)\n",
    "ax.plot_surface(xp, yp, zp, alpha=0.7)\n",
    "\n",
    "xs = X[:, 0]\n",
    "ys = X[:, 1]\n",
    "zs = Y\n",
    "ax.scatter(xs, ys, zs)\n",
    "\n",
    "\n",
    "ax.set_xlabel('size')\n",
    "ax.set_ylabel('bedroom')\n",
    "ax.set_zlabel('price')\n",
    "    \n",
    "plt.show()"
   ]
  },
  {
   "cell_type": "markdown",
   "metadata": {
    "id": "0pAaVPUztMZV"
   },
   "source": [
    "Based on the losses and plots after 500 iterations through the dataset, which gradient descent method appears to yield the best predictions for this particular problem?"
   ]
  },
  {
   "cell_type": "code",
   "execution_count": null,
   "metadata": {
    "id": "vxLme6Nz6BOd"
   },
   "outputs": [],
   "source": []
  }
 ],
 "metadata": {
  "accelerator": "GPU",
  "colab": {
   "collapsed_sections": [],
   "name": "1.4_Multivariate_Linear_Regression_Python.ipynb",
   "provenance": []
  },
  "kernelspec": {
   "display_name": "Python 3",
   "language": "python",
   "name": "python3"
  },
  "language_info": {
   "codemirror_mode": {
    "name": "ipython",
    "version": 3
   },
   "file_extension": ".py",
   "mimetype": "text/x-python",
   "name": "python",
   "nbconvert_exporter": "python",
   "pygments_lexer": "ipython3",
   "version": "3.8.5"
  }
 },
 "nbformat": 4,
 "nbformat_minor": 1
}
